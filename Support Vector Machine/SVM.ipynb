{
 "cells": [
  {
   "cell_type": "markdown",
   "metadata": {},
   "source": [
    "# Imports"
   ]
  },
  {
   "cell_type": "code",
   "execution_count": 1,
   "metadata": {},
   "outputs": [],
   "source": [
    "from sklearn.model_selection import train_test_split\n",
    "from sklearn.svm import SVR\n",
    "from sklearn.metrics import mean_squared_error, r2_score, mean_absolute_error\n",
    "from sklearn.model_selection import cross_val_predict\n",
    "import os\n",
    "from pathlib import Path\n",
    "import pandas as pd\n",
    "import numpy as np\n",
    "from sklearn.preprocessing import StandardScaler\n",
    "from sklearn.pipeline import make_pipeline\n",
    "from sklearn.model_selection import GridSearchCV\n",
    "from sklearn.metrics import make_scorer"
   ]
  },
  {
   "cell_type": "markdown",
   "metadata": {},
   "source": [
    "# Dados"
   ]
  },
  {
   "cell_type": "code",
   "execution_count": 2,
   "metadata": {},
   "outputs": [],
   "source": [
    "parent_dir = os.path.abspath(os.path.join(os.getcwd(), '..'))\n",
    "\n",
    "# Definindo o caminho base para a pasta Pre-processamento\n",
    "base_path = Path(parent_dir) / 'Partial Components Analysis'\n",
    "\n",
    "file_path_raw_cal = base_path / 'RAW_calibration.xlsx'\n",
    "file_path_msc_cal = base_path / 'MSC_calibration.xlsx'\n",
    "file_path_snv_cal = base_path / 'SNV_calibration.xlsx'\n",
    "file_path_sg_cal = base_path / 'SG_calibration.xlsx'\n",
    "\n",
    "df_raw_cal = pd.read_excel(file_path_raw_cal)\n",
    "df_msc_cal = pd.read_excel(file_path_msc_cal)\n",
    "df_snv_cal = pd.read_excel(file_path_snv_cal)\n",
    "df_sg_cal = pd.read_excel(file_path_sg_cal)\n",
    "\n",
    "file_path_raw_val = base_path / 'RAW_validation.xlsx'\n",
    "file_path_msc_val = base_path / 'MSC_validation.xlsx'\n",
    "file_path_snv_val = base_path / 'SNV_validation.xlsx'\n",
    "file_path_sg_val = base_path / 'SG_validation.xlsx'\n",
    "\n",
    "df_raw_val = pd.read_excel(file_path_raw_val)\n",
    "df_msc_val = pd.read_excel(file_path_msc_val)\n",
    "df_snv_val = pd.read_excel(file_path_snv_val)\n",
    "df_sg_val = pd.read_excel(file_path_sg_val)"
   ]
  },
  {
   "cell_type": "markdown",
   "metadata": {},
   "source": [
    "# Testes"
   ]
  },
  {
   "cell_type": "code",
   "execution_count": 3,
   "metadata": {},
   "outputs": [],
   "source": [
    "X_test, y_test = df_msc_val.iloc[:,6:], df_msc_val['SST'].values\n",
    "X_train, y_train = df_msc_cal.iloc[:,6:], df_msc_cal['SST'].values"
   ]
  },
  {
   "cell_type": "code",
   "execution_count": 4,
   "metadata": {},
   "outputs": [
    {
     "data": {
      "text/plain": [
       "((175, 2151), (75, 2151))"
      ]
     },
     "execution_count": 4,
     "metadata": {},
     "output_type": "execute_result"
    }
   ],
   "source": [
    "X_train.shape, X_test.shape"
   ]
  },
  {
   "cell_type": "code",
   "execution_count": 5,
   "metadata": {},
   "outputs": [],
   "source": [
    "cols = X_train.columns"
   ]
  },
  {
   "cell_type": "code",
   "execution_count": 34,
   "metadata": {},
   "outputs": [],
   "source": [
    "#scaler = StandardScaler()\n",
    "#X_train = scaler.fit_transform(X_train)\n",
    "#X_test = scaler.transform(X_test)\n",
    "#X_train = pd.DataFrame(X_train, columns=[cols])\n",
    "#X_test = pd.DataFrame(X_test, columns=[cols])"
   ]
  },
  {
   "cell_type": "code",
   "execution_count": 8,
   "metadata": {},
   "outputs": [
    {
     "name": "stdout",
     "output_type": "stream",
     "text": [
      "\n",
      "=== Training Metrics ===\n",
      "Correlation coefficient: 0.8412\n",
      "Mean absolute error: 1.1297\n",
      "Root mean squared error: 1.4467\n",
      "Relative absolute error: 51.1629\n",
      "Root relative squared error: 54.4612\n",
      "Total Number of Instances: 175.0000\n",
      "\n",
      "=== Cross-Validation Metrics ===\n",
      "Correlation coefficient: 0.8206\n",
      "Mean absolute error: 1.2187\n",
      "Root mean squared error: 1.5218\n",
      "Relative absolute error: 55.1948\n",
      "Root relative squared error: 57.2882\n",
      "Total Number of Instances: 175.0000\n",
      "\n",
      "=== Validation Metrics ===\n",
      "Correlation coefficient: 0.7561\n",
      "Mean absolute error: 1.1345\n",
      "Root mean squared error: 1.3880\n",
      "Relative absolute error: 65.8262\n",
      "Root relative squared error: 65.9570\n",
      "Total Number of Instances: 75.0000\n"
     ]
    }
   ],
   "source": [
    "# Função para calcular as métricas\n",
    "def calculate_metrics(y_true, y_pred):\n",
    "    correlation_coefficient = np.corrcoef(y_true, y_pred)[0, 1]\n",
    "    mae = mean_absolute_error(y_true, y_pred)\n",
    "    rmse = np.sqrt(mean_squared_error(y_true, y_pred))\n",
    "    mean_y_true = np.mean(y_true)\n",
    "    relative_absolute_error = 100 * (mae / np.mean(np.abs(y_true - mean_y_true)))\n",
    "    root_relative_squared_error = 100 * (rmse / np.std(y_true))\n",
    "\n",
    "    return {\n",
    "        \"Correlation coefficient\": correlation_coefficient,\n",
    "        \"Mean absolute error\": mae,\n",
    "        \"Root mean squared error\": rmse,\n",
    "        \"Relative absolute error\": relative_absolute_error,\n",
    "        \"Root relative squared error\": root_relative_squared_error,\n",
    "        \"Total Number of Instances\": len(y_true)\n",
    "    }\n",
    "\n",
    "def display_metrics(title, metrics):\n",
    "    print(f\"\\n=== {title} ===\")\n",
    "    for metric, value in metrics.items():\n",
    "        print(f\"{metric}: {value:.4f}\")\n",
    "\n",
    "# Configurações do modelo SVR com kernel RBF\n",
    "model = SVR(\n",
    "    C=1,                    # Regularização\n",
    "    epsilon=0.001,        # Tolerância\n",
    "    kernel='poly',          # Kernel Polinomial\n",
    "    degree=1,               # Grau do polinômio\n",
    "    coef0=1,                # Termo de bias\n",
    "    tol=0.001,              # Tolerância para precisão\n",
    "    cache_size=250007,      # Tamanho do cache\n",
    "    shrinking=True,         # Usar a heurística de shrinking\n",
    "    verbose=False            # Exibir mensagens detalhadas\n",
    ")\n",
    "# Treinar o modelo\n",
    "model.fit(X_train, y_train)\n",
    "\n",
    "# Fazer previsões no conjunto de treinamento\n",
    "y_train_pred = model.predict(X_train)\n",
    "training_metrics = calculate_metrics(y_train, y_train_pred)\n",
    "display_metrics(\"Training Metrics\", training_metrics)\n",
    "\n",
    "# Validação cruzada Leave-One-Out (LOO)\n",
    "from sklearn.model_selection import LeaveOneOut\n",
    "loo = LeaveOneOut()\n",
    "y_train_cv = cross_val_predict(model, X_train, y_train, cv=loo)\n",
    "cv_metrics = calculate_metrics(y_train, y_train_cv)\n",
    "display_metrics(\"Cross-Validation Metrics\", cv_metrics)\n",
    "\n",
    "# Avaliação final no conjunto de teste\n",
    "y_pred_val = model.predict(X_test)\n",
    "validation_metrics = calculate_metrics(y_test, y_pred_val)\n",
    "display_metrics(\"Validation Metrics\", validation_metrics)"
   ]
  },
  {
   "cell_type": "code",
   "execution_count": 10,
   "metadata": {},
   "outputs": [
    {
     "name": "stdout",
     "output_type": "stream",
     "text": [
      "\n",
      "=== Training Metrics ===\n",
      "Correlation coefficient: 0.9605\n",
      "Mean absolute error: 0.4644\n",
      "Root mean squared error: 0.7431\n",
      "Relative absolute error: 21.0324\n",
      "Root relative squared error: 27.9758\n",
      "Total Number of Instances: 175.0000\n",
      "\n",
      "=== Cross-Validation Metrics ===\n",
      "Correlation coefficient: 0.8446\n",
      "Mean absolute error: 1.0726\n",
      "Root mean squared error: 1.4889\n",
      "Relative absolute error: 48.5783\n",
      "Root relative squared error: 56.0495\n",
      "Total Number of Instances: 175.0000\n",
      "\n",
      "=== Validation Metrics ===\n",
      "Correlation coefficient: 0.8768\n",
      "Mean absolute error: 0.8197\n",
      "Root mean squared error: 1.0471\n",
      "Relative absolute error: 47.5581\n",
      "Root relative squared error: 49.7610\n",
      "Total Number of Instances: 75.0000\n"
     ]
    }
   ],
   "source": [
    "# Função para calcular as métricas\n",
    "def calculate_metrics(y_true, y_pred):\n",
    "    correlation_coefficient = np.corrcoef(y_true, y_pred)[0, 1]\n",
    "    mae = mean_absolute_error(y_true, y_pred)\n",
    "    rmse = np.sqrt(mean_squared_error(y_true, y_pred))\n",
    "    mean_y_true = np.mean(y_true)\n",
    "    relative_absolute_error = 100 * (mae / np.mean(np.abs(y_true - mean_y_true)))\n",
    "    root_relative_squared_error = 100 * (rmse / np.std(y_true))\n",
    "\n",
    "    return {\n",
    "        \"Correlation coefficient\": correlation_coefficient,\n",
    "        \"Mean absolute error\": mae,\n",
    "        \"Root mean squared error\": rmse,\n",
    "        \"Relative absolute error\": relative_absolute_error,\n",
    "        \"Root relative squared error\": root_relative_squared_error,\n",
    "        \"Total Number of Instances\": len(y_true)\n",
    "    }\n",
    "\n",
    "def display_metrics(title, metrics):\n",
    "    print(f\"\\n=== {title} ===\")\n",
    "    for metric, value in metrics.items():\n",
    "        print(f\"{metric}: {value:.4f}\")\n",
    "\n",
    "# Criar o pipeline\n",
    "# Configurar o modelo SVR com parâmetros similares aos do Weka\n",
    "model = SVR(\n",
    "    C=4,                # Complexidade do modelo\n",
    "    epsilon=0.1,        # Epsilon para a perda insensível\n",
    "    kernel='poly',        # Kernel Polinomial\n",
    "    degree=2,             # Grau do polinômio (exponente)\n",
    "    gamma=0.001,     # Gamma do kernel (inverso do cacheSize em Weka)\n",
    "    tol=0.001,            # Tolerância para critério de parada\n",
    "    cache_size=250007,    # Tamanho do cache\n",
    "    verbose=False,        # Não exibir mensagens detalhadas\n",
    "    coef0=1             # Termo independente do kernel polinomial\n",
    ")\n",
    "\n",
    "# Criar o pipeline\n",
    "pipeline = make_pipeline(\n",
    "    StandardScaler(),  # Normalização dos dados\n",
    "    model  # Modelo SVR\n",
    ")\n",
    "\n",
    "# Treinar o modelo\n",
    "pipeline.fit(X_train, y_train)\n",
    "\n",
    "# Fazer previsões no conjunto de treinamento\n",
    "y_train_pred = pipeline.predict(X_train)\n",
    "training_metrics = calculate_metrics(y_train, y_train_pred)\n",
    "display_metrics(\"Training Metrics\", training_metrics)\n",
    "\n",
    "# Validação cruzada Leave-One-Out (LOO)\n",
    "from sklearn.model_selection import LeaveOneOut\n",
    "loo = LeaveOneOut()\n",
    "y_train_cv = cross_val_predict(pipeline, X_train, y_train, cv=loo)\n",
    "cv_metrics = calculate_metrics(y_train, y_train_cv)\n",
    "display_metrics(\"Cross-Validation Metrics\", cv_metrics)\n",
    "\n",
    "# Avaliação final no conjunto de teste\n",
    "y_pred_val = pipeline.predict(X_test)\n",
    "validation_metrics = calculate_metrics(y_test, y_pred_val)\n",
    "display_metrics(\"Validation Metrics\", validation_metrics)"
   ]
  },
  {
   "cell_type": "code",
   "execution_count": 7,
   "metadata": {},
   "outputs": [
    {
     "name": "stdout",
     "output_type": "stream",
     "text": [
      "Fitting 175 folds for each of 240 candidates, totalling 42000 fits\n",
      "Melhores parâmetros encontrados:\n",
      "{'svr__C': 1, 'svr__coef0': 1, 'svr__degree': 2, 'svr__epsilon': 0.001, 'svr__gamma': 0.001}\n",
      "\n",
      "Resultados no conjunto de teste:\n",
      "MAE (Mean Absolute Error): 0.9236\n",
      "RMSE (Root Mean Squared Error): 1.1644\n",
      "R² (Coeficiente de Determinação): 0.6938\n"
     ]
    }
   ],
   "source": [
    "from sklearn.svm import SVR\n",
    "from sklearn.pipeline import make_pipeline\n",
    "from sklearn.preprocessing import StandardScaler\n",
    "from sklearn.model_selection import GridSearchCV\n",
    "from sklearn.metrics import mean_absolute_error, mean_squared_error, r2_score\n",
    "\n",
    "# Definir o pipeline\n",
    "pipeline = make_pipeline(StandardScaler(), SVR(kernel='poly'))\n",
    "\n",
    "# Definir os parâmetros para o GridSearch\n",
    "param_grid = {\n",
    "    'svr__C': [0.1, 1],  # Valores de regularização\n",
    "    'svr__degree': [2, 3],     # Graus do polinômio\n",
    "    'svr__gamma': ['scale', 'auto', 0.1, 0.01, 0.001],  # Parâmetro gamma\n",
    "    'svr__coef0': [0.0, 0.1, 0.5, 1],  # Coeficiente do termo independente\n",
    "    'svr__epsilon': [0.1, 0.01, 0.001],  # Epsilon para a função de perda\n",
    "}\n",
    "\n",
    "# Definir o GridSearchCV\n",
    "grid_search = GridSearchCV(\n",
    "    estimator=pipeline,\n",
    "    param_grid=param_grid,\n",
    "    scoring='neg_mean_absolute_error',  # Usando MAE como métrica de avaliação\n",
    "    cv=175,  # Validação cruzada com 5 folds\n",
    "    n_jobs=-1,  # Utiliza todos os processadores disponíveis\n",
    "    verbose=3  # Mostra detalhes do processo\n",
    ")\n",
    "\n",
    "# Treinar o GridSearchCV\n",
    "grid_search.fit(X_train, y_train)\n",
    "\n",
    "# Resultados do GridSearch\n",
    "print(\"Melhores parâmetros encontrados:\")\n",
    "print(grid_search.best_params_)\n",
    "\n",
    "# Fazer previsões no conjunto de teste usando o melhor modelo encontrado\n",
    "y_pred = grid_search.predict(X_test)\n",
    "\n",
    "# Calcular e exibir as métricas de desempenho\n",
    "mae = mean_absolute_error(y_test, y_pred)\n",
    "rmse = np.sqrt(mean_squared_error(y_test, y_pred))\n",
    "r2 = r2_score(y_test, y_pred)\n",
    "\n",
    "print(\"\\nResultados no conjunto de teste:\")\n",
    "print(f\"MAE (Mean Absolute Error): {mae:.4f}\")\n",
    "print(f\"RMSE (Root Mean Squared Error): {rmse:.4f}\")\n",
    "print(f\"R² (Coeficiente de Determinação): {r2:.4f}\")\n"
   ]
  },
  {
   "cell_type": "markdown",
   "metadata": {},
   "source": []
  }
 ],
 "metadata": {
  "kernelspec": {
   "display_name": "Python 3",
   "language": "python",
   "name": "python3"
  },
  "language_info": {
   "codemirror_mode": {
    "name": "ipython",
    "version": 3
   },
   "file_extension": ".py",
   "mimetype": "text/x-python",
   "name": "python",
   "nbconvert_exporter": "python",
   "pygments_lexer": "ipython3",
   "version": "3.12.1"
  }
 },
 "nbformat": 4,
 "nbformat_minor": 2
}
