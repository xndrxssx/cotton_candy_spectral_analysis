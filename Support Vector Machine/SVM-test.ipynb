{
 "cells": [
  {
   "cell_type": "code",
   "execution_count": 1,
   "metadata": {},
   "outputs": [
    {
     "name": "stderr",
     "output_type": "stream",
     "text": [
      "DEBUG:weka.core.jvm:Adding bundled jars\n",
      "DEBUG:weka.core.jvm:Classpath=['c:\\\\Users\\\\Luyza\\\\AppData\\\\Local\\\\Programs\\\\Python\\\\Python312\\\\Lib\\\\site-packages\\\\weka\\\\lib\\\\arpack_combined.jar', 'c:\\\\Users\\\\Luyza\\\\AppData\\\\Local\\\\Programs\\\\Python\\\\Python312\\\\Lib\\\\site-packages\\\\weka\\\\lib\\\\core.jar', 'c:\\\\Users\\\\Luyza\\\\AppData\\\\Local\\\\Programs\\\\Python\\\\Python312\\\\Lib\\\\site-packages\\\\weka\\\\lib\\\\mtj.jar', 'c:\\\\Users\\\\Luyza\\\\AppData\\\\Local\\\\Programs\\\\Python\\\\Python312\\\\Lib\\\\site-packages\\\\weka\\\\lib\\\\python-weka-wrapper.jar', 'c:\\\\Users\\\\Luyza\\\\AppData\\\\Local\\\\Programs\\\\Python\\\\Python312\\\\Lib\\\\site-packages\\\\weka\\\\lib\\\\weka.jar']\n",
      "DEBUG:weka.core.jvm:MaxHeapSize=default\n",
      "DEBUG:weka.core.jvm:Package support disabled\n"
     ]
    }
   ],
   "source": [
    "# Testando JVM\n",
    "import weka.core.jvm as jvm\n",
    "\n",
    "# Inicie a JVM sem especificar o caminho para o weka.jar\n",
    "jvm.start()"
   ]
  },
  {
   "cell_type": "code",
   "execution_count": 2,
   "metadata": {},
   "outputs": [],
   "source": [
    "data_dir = \"C:\\\\Users\\\\Luyza\\\\Documents\\\\Dados\""
   ]
  },
  {
   "cell_type": "code",
   "execution_count": 3,
   "metadata": {},
   "outputs": [],
   "source": [
    "from weka.core.converters import Loader\n",
    "# Cria uma instância do CSVLoader\n",
    "loader = Loader(classname=\"weka.core.converters.CSVLoader\")\n",
    "# Carrega o dataset CSV (substitua pelo nome do seu arquivo CSV)\n",
    "data = loader.load_file(f\"{data_dir}/MSC_calibration.csv\")\n",
    "# Define a última coluna como a classe (se necessário)\n",
    "data.class_is_last()"
   ]
  },
  {
   "cell_type": "code",
   "execution_count": 4,
   "metadata": {},
   "outputs": [
    {
     "name": "stdout",
     "output_type": "stream",
     "text": [
      "Coeficiente de Correlação: 0.9789283120991824\n",
      "MAE: 0.0005657088613731934\n",
      "RMSE: 0.0007377036649620975\n",
      "RAE: 0.23525020817412567\n",
      "RRMSE: 0.03445389540483091\n",
      "Número Total de Instâncias: 175\n"
     ]
    }
   ],
   "source": [
    "from weka.classifiers import Classifier\n",
    "from weka.classifiers import Evaluation\n",
    "import numpy as np\n",
    "\n",
    "# Cria uma instância do classificador RandomForest\n",
    "# As opções são ajustadas para refletir o que foi especificado no seu exemplo\n",
    "cls = Classifier(classname=\"weka.classifiers.trees.RandomForest\", options=[\n",
    "    \"-P\", \"100\",  # Percentage of bagging (not used here, but set to 100)\n",
    "    \"-I\", \"100\",  # Number of trees\n",
    "    \"-num-slots\", \"1\",  # Number of threads to use\n",
    "    \"-K\", \"0\",  # Number of attributes to consider (0 means all)\n",
    "    \"-M\", \"1.0\",  # Minimum number of instances per leaf\n",
    "    \"-V\", \"0.001\",  # Percentage of instances to leave out for the random forest model\n",
    "    \"-S\", \"1\"  # Random seed\n",
    "])\n",
    "\n",
    "# Treina o classificador com o dataset\n",
    "cls.build_classifier(data)\n",
    "\n",
    "# Avalia o modelo com o próprio conjunto de dados de treinamento\n",
    "evaluation = Evaluation(data)\n",
    "\n",
    "# Gera previsões para o conjunto de dados de treinamento\n",
    "predictions = [cls.classify_instance(inst) for inst in data]\n",
    "\n",
    "# Obtém as classes reais\n",
    "actual = [inst.get_value(data.class_index) for inst in data]\n",
    "\n",
    "# Converte para numpy arrays para facilitar o cálculo das métricas\n",
    "actual = np.array(actual)\n",
    "predictions = np.array(predictions)\n",
    "\n",
    "# Calcula as métricas manualmente\n",
    "mae = np.mean(np.abs(predictions - actual))\n",
    "rmse = np.sqrt(np.mean((predictions - actual) ** 2))\n",
    "rae = np.sum(np.abs(predictions - actual)) / np.sum(np.abs(actual - np.mean(actual)))\n",
    "rrmse = np.sqrt(np.mean((predictions - actual) ** 2)) / np.mean(actual)\n",
    "\n",
    "# Coeficiente de Correlação\n",
    "correlation_coefficient = np.corrcoef(predictions, actual)[0, 1]\n",
    "\n",
    "# Número Total de Instâncias\n",
    "total_instances = len(data)\n",
    "\n",
    "# Imprime as métricas de avaliação\n",
    "print(f\"Coeficiente de Correlação: {correlation_coefficient}\")\n",
    "print(f\"MAE: {mae}\")\n",
    "print(f\"RMSE: {rmse}\")\n",
    "print(f\"RAE: {rae}\")\n",
    "print(f\"RRMSE: {rrmse}\")\n",
    "print(f\"Número Total de Instâncias: {total_instances}\")"
   ]
  },
  {
   "cell_type": "code",
   "execution_count": 5,
   "metadata": {},
   "outputs": [
    {
     "ename": "TypeError",
     "evalue": "No matching overloads found for *static* weka.classifiers.Evaluation.evaluateModel(weka.classifiers.trees.RandomForest,Instances), options are:\n\tpublic static java.lang.String weka.classifiers.Evaluation.evaluateModel(weka.classifiers.Classifier,java.lang.String[]) throws java.lang.Exception\n\tpublic static java.lang.String weka.classifiers.Evaluation.evaluateModel(java.lang.String,java.lang.String[]) throws java.lang.Exception\n\tpublic double[] weka.classifiers.Evaluation.evaluateModel(weka.classifiers.Classifier,weka.core.Instances,java.lang.Object[]) throws java.lang.Exception\n",
     "output_type": "error",
     "traceback": [
      "\u001b[1;31m---------------------------------------------------------------------------\u001b[0m",
      "\u001b[1;31mTypeError\u001b[0m                                 Traceback (most recent call last)",
      "Cell \u001b[1;32mIn[5], line 11\u001b[0m\n\u001b[0;32m      8\u001b[0m evaluation \u001b[38;5;241m=\u001b[39m Evaluation(data)\n\u001b[0;32m     10\u001b[0m \u001b[38;5;66;03m# Avalia o modelo com o próprio conjunto de dados (cross-validation)\u001b[39;00m\n\u001b[1;32m---> 11\u001b[0m \u001b[43mevaluation\u001b[49m\u001b[38;5;241;43m.\u001b[39;49m\u001b[43mevaluate_model\u001b[49m\u001b[43m(\u001b[49m\u001b[38;5;28;43mcls\u001b[39;49m\u001b[43m,\u001b[49m\u001b[43m \u001b[49m\u001b[43mdata\u001b[49m\u001b[43m)\u001b[49m\n\u001b[0;32m     13\u001b[0m mae \u001b[38;5;241m=\u001b[39m np\u001b[38;5;241m.\u001b[39mmean(np\u001b[38;5;241m.\u001b[39mabs(predictions \u001b[38;5;241m-\u001b[39m actual))\n\u001b[0;32m     14\u001b[0m rmse \u001b[38;5;241m=\u001b[39m np\u001b[38;5;241m.\u001b[39msqrt(np\u001b[38;5;241m.\u001b[39mmean((predictions \u001b[38;5;241m-\u001b[39m actual) \u001b[38;5;241m*\u001b[39m\u001b[38;5;241m*\u001b[39m \u001b[38;5;241m2\u001b[39m))\n",
      "File \u001b[1;32mc:\\Users\\Luyza\\AppData\\Local\\Programs\\Python\\Python312\\Lib\\site-packages\\weka\\classifiers.py:2056\u001b[0m, in \u001b[0;36mEvaluation.evaluate_model\u001b[1;34m(cls, classifier, args)\u001b[0m\n\u001b[0;32m   2044\u001b[0m \u001b[38;5;129m@classmethod\u001b[39m\n\u001b[0;32m   2045\u001b[0m \u001b[38;5;28;01mdef\u001b[39;00m \u001b[38;5;21mevaluate_model\u001b[39m(\u001b[38;5;28mcls\u001b[39m, classifier, args):\n\u001b[0;32m   2046\u001b[0m \u001b[38;5;250m    \u001b[39m\u001b[38;5;124;03m\"\"\"\u001b[39;00m\n\u001b[0;32m   2047\u001b[0m \u001b[38;5;124;03m    Evaluates the classifier with the given options.\u001b[39;00m\n\u001b[0;32m   2048\u001b[0m \n\u001b[1;32m   (...)\u001b[0m\n\u001b[0;32m   2054\u001b[0m \u001b[38;5;124;03m    :rtype: str\u001b[39;00m\n\u001b[0;32m   2055\u001b[0m \u001b[38;5;124;03m    \"\"\"\u001b[39;00m\n\u001b[1;32m-> 2056\u001b[0m     \u001b[38;5;28;01mreturn\u001b[39;00m \u001b[43mJClass\u001b[49m\u001b[43m(\u001b[49m\u001b[38;5;124;43m\"\u001b[39;49m\u001b[38;5;124;43mweka.classifiers.Evaluation\u001b[39;49m\u001b[38;5;124;43m\"\u001b[39;49m\u001b[43m)\u001b[49m\u001b[38;5;241;43m.\u001b[39;49m\u001b[43mevaluateModel\u001b[49m\u001b[43m(\u001b[49m\u001b[43mclassifier\u001b[49m\u001b[38;5;241;43m.\u001b[39;49m\u001b[43mjobject\u001b[49m\u001b[43m,\u001b[49m\u001b[43m \u001b[49m\u001b[43margs\u001b[49m\u001b[43m)\u001b[49m\n",
      "\u001b[1;31mTypeError\u001b[0m: No matching overloads found for *static* weka.classifiers.Evaluation.evaluateModel(weka.classifiers.trees.RandomForest,Instances), options are:\n\tpublic static java.lang.String weka.classifiers.Evaluation.evaluateModel(weka.classifiers.Classifier,java.lang.String[]) throws java.lang.Exception\n\tpublic static java.lang.String weka.classifiers.Evaluation.evaluateModel(java.lang.String,java.lang.String[]) throws java.lang.Exception\n\tpublic double[] weka.classifiers.Evaluation.evaluateModel(weka.classifiers.Classifier,weka.core.Instances,java.lang.Object[]) throws java.lang.Exception\n"
     ]
    }
   ],
   "source": [
    "# Classifica cada instância e imprime os resultados\n",
    "for index, inst in enumerate(data):\n",
    "    pred = cls.classify_instance(inst)\n",
    "    dist = cls.distribution_for_instance(inst)\n",
    "    #print(f\"{index+1}: label index={pred}, class distribution={dist}\") -> output das prediçoes\n",
    "    \n",
    "# Inicializa a avaliação\n",
    "evaluation = Evaluation(data)\n",
    "\n",
    "# Avalia o modelo com o próprio conjunto de dados (cross-validation)\n",
    "evaluation.evaluate_model(cls, data)\n",
    "\n",
    "mae = np.mean(np.abs(predictions - actual))\n",
    "rmse = np.sqrt(np.mean((predictions - actual) ** 2))\n",
    "rae = np.sum(np.abs(predictions - actual)) / np.sum(np.abs(actual - np.mean(actual)))\n",
    "rrmse = np.sqrt(np.mean((predictions - actual) ** 2)) / np.mean(actual)\n",
    "\n",
    "# Coeficiente de Correlação\n",
    "correlation_coefficient = np.corrcoef(predictions, actual)[0, 1]\n",
    "\n",
    "# Número Total de Instâncias\n",
    "total_instances = len(data)\n",
    "\n",
    "# Imprime as métricas de avaliação\n",
    "print(f\"Coeficiente de Correlação: {correlation_coefficient}\")\n",
    "print(f\"MAE: {mae}\")\n",
    "print(f\"RMSE: {rmse}\")\n",
    "print(f\"RAE: {rae}\")\n",
    "print(f\"RRMSE: {rrmse}\")\n",
    "print(f\"Número Total de Instâncias: {total_instances}\")\n",
    "print(cls)"
   ]
  },
  {
   "cell_type": "code",
   "execution_count": null,
   "metadata": {},
   "outputs": [],
   "source": [
    "import weka.plot.graph as graph  # NB: pygraphviz and PIL are required\n",
    "graph.plot_dot_graph(cls.graph)"
   ]
  }
 ],
 "metadata": {
  "kernelspec": {
   "display_name": "Python 3",
   "language": "python",
   "name": "python3"
  },
  "language_info": {
   "codemirror_mode": {
    "name": "ipython",
    "version": 3
   },
   "file_extension": ".py",
   "mimetype": "text/x-python",
   "name": "python",
   "nbconvert_exporter": "python",
   "pygments_lexer": "ipython3",
   "version": "3.12.1"
  }
 },
 "nbformat": 4,
 "nbformat_minor": 2
}
