{
 "cells": [
  {
   "cell_type": "markdown",
   "metadata": {},
   "source": [
    "# Imports"
   ]
  },
  {
   "cell_type": "code",
   "execution_count": 1,
   "metadata": {},
   "outputs": [],
   "source": [
    "import pandas as pd\n",
    "from pathlib import Path\n",
    "import os\n",
    "from sys import stdout\n",
    "import numpy as np\n",
    "import pandas as pd\n",
    "import matplotlib.pyplot as plt\n",
    "from sklearn.cross_decomposition import PLSRegression\n",
    "from sklearn.model_selection import cross_val_predict\n",
    "from sklearn.metrics import mean_squared_error, r2_score\n",
    "from sklearn.preprocessing import StandardScaler\n",
    "from sklearn.model_selection import train_test_split\n",
    "from sklearn.model_selection import KFold"
   ]
  },
  {
   "cell_type": "markdown",
   "metadata": {},
   "source": [
    "# Obtenção dos dados"
   ]
  },
  {
   "cell_type": "code",
   "execution_count": 2,
   "metadata": {},
   "outputs": [],
   "source": [
    "# Listar arquivos no diretório acima\n",
    "parent_dir = os.path.abspath(os.path.join(os.getcwd(), '..'))\n",
    "\n",
    "# Definindo o caminho base para a pasta Pre-processamento\n",
    "base_path = Path(parent_dir) / 'Pre-processamento'\n",
    "\n",
    "file_path_raw = base_path / 'dataset_cotton_fruit.xlsx'\n",
    "file_path_msc = base_path / 'data_msc.xlsx'\n",
    "file_path_snv = base_path / 'data_snv.xlsx'\n",
    "file_path_sg = base_path / 'data_savgol_ordem_1.xlsx'\n",
    "\n",
    "df_raw = pd.read_excel(file_path_raw)\n",
    "df_msc = pd.read_excel(file_path_msc)\n",
    "df_snv = pd.read_excel(file_path_snv)\n",
    "df_sg = pd.read_excel(file_path_sg)\n"
   ]
  },
  {
   "cell_type": "markdown",
   "metadata": {},
   "source": [
    "# PLSR"
   ]
  },
  {
   "cell_type": "code",
   "execution_count": 3,
   "metadata": {},
   "outputs": [],
   "source": [
    "X = df_raw.iloc[:, 7:].values\n",
    "y = df_raw['SST'].values"
   ]
  },
  {
   "cell_type": "code",
   "execution_count": 92,
   "metadata": {},
   "outputs": [],
   "source": [
    "def pretreat(Xcal, Xtest, methods):\n",
    "    if 'center' in methods:\n",
    "        # Centraliza Xcal\n",
    "        mean_Xcal = Xcal.mean(axis=0)\n",
    "        Xcalp = Xcal - mean_Xcal\n",
    "        \n",
    "        # Centraliza Xtest usando a média de Xcal\n",
    "        Xtestp = Xtest - mean_Xcal\n",
    "        return Xcal, Xcalp, Xtest\n",
    "\n",
    "def plsnipals(X, Y, A):\n",
    "    # The NIPALS algorithm for both PLS-1 (a single y) and PLS-2 (multiple Y)\n",
    "    # X: n x p matrix\n",
    "    # Y: n x m matrix\n",
    "    # A: number of latent variables\n",
    "\n",
    "    varX = np.sum(X ** 2)\n",
    "    varY = np.sum(Y ** 2)\n",
    "\n",
    "    W = np.empty((X.shape[1], A))\n",
    "    T = np.empty((X.shape[0], A))\n",
    "    P = np.empty((X.shape[1], A))\n",
    "    Q = np.empty((Y.shape[1], A))\n",
    "\n",
    "    for i in range(A):\n",
    "        error = 1\n",
    "        u = Y[:, 0]\n",
    "        niter = 0\n",
    "\n",
    "        while error > 1e-8 and niter < 1000:  # for convergence test\n",
    "            w = X.T @ u / (u.T @ u)\n",
    "            w /= np.linalg.norm(w)\n",
    "            t = X @ w\n",
    "            q = Y.T @ t / (t.T @ t)  # regress Y against t\n",
    "            u1 = Y @ q / (q.T @ q)\n",
    "            error = np.linalg.norm(u1 - u) / np.linalg.norm(u)\n",
    "            u = u1\n",
    "            niter += 1\n",
    "\n",
    "        p = X.T @ t / (t.T @ t)\n",
    "        X -= t.reshape(-1, 1) @ p.reshape(1, -1)\n",
    "        Y -= t.reshape(-1, 1) @ q.reshape(1, -1)\n",
    "\n",
    "        # store\n",
    "        W[:, i] = w\n",
    "        T[:, i] = t\n",
    "        P[:, i] = p\n",
    "        Q[:, i] = q\n",
    "\n",
    "    # calculate explained variance\n",
    "    R2X = np.diag(T.T @ T @ P.T @ P) / varX\n",
    "    R2Y = np.diag(T.T @ T @ Q.T @ Q) / varY\n",
    "\n",
    "    Wstar = W @ np.linalg.inv(P.T @ W)\n",
    "    B = Wstar @ Q.T\n",
    "    Q = Q.T\n",
    "\n",
    "    return W, T, P, Q, Wstar, B, R2X, R2Y\n",
    "\n",
    "\n",
    "def plscv(X, y, A, K, method='center', PROCESS=1, order=2):\n",
    "    if order == 0:\n",
    "        indexyy = np.argsort(y)\n",
    "        X = X[indexyy]\n",
    "        y = y[indexyy]\n",
    "    elif order == 1:\n",
    "        indexyy = np.random.permutation(len(y))\n",
    "        X = X[indexyy]\n",
    "        y = y[indexyy]\n",
    "    elif order == 2:\n",
    "        indexyy = np.arange(len(y))\n",
    "        X = X[indexyy]\n",
    "        y = y[indexyy]\n",
    "\n",
    "    Mx, Nx = X.shape\n",
    "    A = min([X.shape[1], A])\n",
    "    yytest = np.empty(Mx)\n",
    "    YR = np.empty((Mx, A))\n",
    "\n",
    "    groups = 1 + np.arange(Mx) % K\n",
    "    for group in range(1, K+1):\n",
    "        calk = np.where(groups != group)[0]\n",
    "        testk = np.where(groups == group)[0]\n",
    "\n",
    "        Xcal, ycal = X[calk], y[calk]\n",
    "        Xtest, ytest = X[testk], y[testk]\n",
    "\n",
    "        # data pretreatment\n",
    "        Xs, xpara1, xpara2 = pretreat(Xcal, Xtest, method)\n",
    "        ys, ypara1, ypara2 = pretreat(ycal, ytest, method)\n",
    "        print(\"Xpara1 shape:\", xpara1.shape)\n",
    "        print(\"Xpara2 shape:\", xpara2.shape)\n",
    "        print(\"ypara1 shape:\", ypara1.shape)\n",
    "        print(\"ypara2 shape:\", ypara2.shape)\n",
    "        \n",
    "        y_arr = np.array([y]).T\n",
    "\n",
    "        W, T, P, Q, Wstar, B, r2_x, r2_y = plsnipals(X, y_arr, A)  # no pretreatment.\n",
    "\n",
    "        yp = []\n",
    "        for j in range(1, A+1):\n",
    "            B = Wstar[:, :j] @ Q[:j]\n",
    "            print(\"B\", B.shape)\n",
    "            # calculate the coefficient linking Xcal and ycal.\n",
    "            C = (ypara2 * B).T / xpara2\n",
    "            print(\"C\", C.shape)\n",
    "            coef = np.concatenate((C, ypara1 - (xpara1 * C)))\n",
    "            \n",
    "            # predict\n",
    "            Xteste = np.hstack((Xtest, np.ones((Xtest.shape[0], 1))))\n",
    "            ypred = Xteste @ coef\n",
    "            yp.append(ypred)\n",
    "\n",
    "        YR[testk] = np.array(yp).T\n",
    "        yytest[testk] = ytest\n",
    "        if PROCESS == 1:\n",
    "            print(f'The {group}th group finished.')\n",
    "\n",
    "    # return the original order\n",
    "    YR[indexyy] = YR\n",
    "    y[indexyy] = y\n",
    "\n",
    "    # mean and sd of squared error\n",
    "    error = YR - np.tile(y, (1, A))\n",
    "    error2 = error ** 2\n",
    "    error2_MEAN = np.sum(error2, axis=0) / Mx\n",
    "    error2_SD = np.sqrt(np.sum((error2 - np.tile(np.mean(error2, axis=0), (Mx, 1))) ** 2, axis=0) / (Mx - 1))\n",
    "\n",
    "    # calculate Q2\n",
    "    cv = np.sqrt(error2_MEAN)\n",
    "    index = np.argmin(cv)\n",
    "    indexSD = np.where(error2_MEAN <= np.min(error2_MEAN) + error2_SD[index])[0][0]\n",
    "    RMSEP = cv[index]\n",
    "    SST = np.sum((yytest - np.mean(y)) ** 2)\n",
    "    Q2 = 1 - np.sum((YR - np.tile(y, (1, A))) ** 2, axis=0) / SST\n",
    "\n",
    "    # output\n",
    "    CV = {\n",
    "        'method': method,\n",
    "        'Ypred': YR,\n",
    "        'predError': error,\n",
    "        'RMSECV': cv,\n",
    "        'Q2': Q2,\n",
    "        'RMSECV_min': RMSEP,\n",
    "        'Q2_max': Q2[index],\n",
    "        'optLV': index,\n",
    "        'note': '*** The following is based on global min MSE + 1SD',\n",
    "        'RMSECV_min_1SD': cv[indexSD],\n",
    "        'Q2_max_1SD': Q2[indexSD],\n",
    "        'optLV_1SD': indexSD\n",
    "    }\n",
    "    CV_df = pd.DataFrame([CV]).T\n",
    "\n",
    "\n",
    "    return CV_df"
   ]
  },
  {
   "cell_type": "code",
   "execution_count": 71,
   "metadata": {},
   "outputs": [],
   "source": [
    "##Construção do modelo\n",
    "def caltest(X, y, test_size, method, random_state):\n",
    "    methods = ['center']  # Método de pré-processamento: centralização\n",
    "\n",
    "    # Define o número de folds\n",
    "    n_splits = int(100 / (100 - test_size))\n",
    "    \n",
    "    # Inicializa o KFold\n",
    "    kf = KFold(n_splits=n_splits, shuffle=True, random_state=random_state)\n",
    "    \n",
    "    # Obter o primeiro split do KFold\n",
    "    for train_index, test_index in kf.split(X):\n",
    "        Xcal, Xtest = X[train_index], X[test_index]\n",
    "        ycal, ytest = y[train_index], y[test_index]\n",
    "        break  # Pegue apenas o primeiro split\n",
    "    \n",
    "    # info pode ser um dicionário armazenando alguns metadados sobre a divisão\n",
    "    info = {\n",
    "        'method': method,\n",
    "        'test_size': test_size,\n",
    "        'random_state': random_state,\n",
    "        'n_splits': n_splits\n",
    "    }\n",
    "    \n",
    "    print(\"É esperado que a maior parte das amostras para teste sejam do centro da distibuição\")\n",
    "    # Criação do gráfico\n",
    "    plt.figure(figsize=(8, 6))\n",
    "\n",
    "    # Plotar ycal e ytest\n",
    "    plt.plot(ycal, ycal, 'b*', label='ycal')\n",
    "    plt.plot(ytest, ytest, 'ro', label='ytest')\n",
    "\n",
    "    # Adicionar legenda, grid e rótulos\n",
    "    plt.legend()\n",
    "    plt.grid(True)\n",
    "    plt.xlabel('Referência')\n",
    "    plt.ylabel('Referência')\n",
    "\n",
    "    # Mostrar o gráfico\n",
    "    plt.show()\n",
    "\n",
    "    return info, Xcal, Xtest, ycal, ytest"
   ]
  },
  {
   "cell_type": "code",
   "execution_count": 72,
   "metadata": {},
   "outputs": [
    {
     "name": "stdout",
     "output_type": "stream",
     "text": [
      "É esperado que a maior parte das amostras para teste sejam do centro da distibuição\n"
     ]
    },
    {
     "data": {
      "image/png": "[encoded data removed]",
      "text/plain": [
       "<Figure size 800x600 with 1 Axes>"
      ]
     },
     "metadata": {},
     "output_type": "display_data"
    },
    {
     "name": "stdout",
     "output_type": "stream",
     "text": [
      "Info: {'method': 'k', 'test_size': 70, 'random_state': 0, 'n_splits': 3}\n",
      "Xcal shape: (166, 2151)\n",
      "Xtest shape: (84, 2151)\n",
      "ycal shape: (166,)\n",
      "ytest shape: (84,)\n"
     ]
    }
   ],
   "source": [
    "# Exemplo de uso\n",
    "test_size = 70                 # 70% para calibração, 30% para teste\n",
    "method = 'k'                   # Método, indicando validação cruzada k-fold\n",
    "random_state = 0               # Semente para o gerador de números aleatórios\n",
    "options = ['none']             # Opções, não usadas neste exemplo, mas incluídas para completude\n",
    "\n",
    "\n",
    "info, Xcal, Xtest, ycal, ytest = caltest(X, y, test_size, method, random_state)\n",
    "print(\"Info:\", info)\n",
    "print(\"Xcal shape:\", Xcal.shape)\n",
    "print(\"Xtest shape:\", Xtest.shape)\n",
    "print(\"ycal shape:\", ycal.shape)\n",
    "print(\"ytest shape:\", ytest.shape)"
   ]
  },
  {
   "cell_type": "code",
   "execution_count": 93,
   "metadata": {},
   "outputs": [
    {
     "name": "stdout",
     "output_type": "stream",
     "text": [
      "<class 'numpy.ndarray'>\n",
      "<class 'numpy.ndarray'>\n",
      "Xpara1 shape: (149, 2151)\n",
      "Xpara2 shape: (17, 2151)\n",
      "ypara1 shape: (149,)\n",
      "ypara2 shape: (17,)\n",
      "B (2151, 1)\n",
      "C (17, 2151)\n"
     ]
    },
    {
     "ename": "ValueError",
     "evalue": "operands could not be broadcast together with shapes (149,2151) (17,2151) ",
     "output_type": "error",
     "traceback": [
      "\u001b[1;31m---------------------------------------------------------------------------\u001b[0m",
      "\u001b[1;31mValueError\u001b[0m                                Traceback (most recent call last)",
      "Cell \u001b[1;32mIn[93], line 6\u001b[0m\n\u001b[0;32m      4\u001b[0m cv \u001b[38;5;241m=\u001b[39m \u001b[38;5;241m10\u001b[39m\n\u001b[0;32m      5\u001b[0m methods \u001b[38;5;241m=\u001b[39m \u001b[38;5;124m'\u001b[39m\u001b[38;5;124mcenter\u001b[39m\u001b[38;5;124m'\u001b[39m\n\u001b[1;32m----> 6\u001b[0m df \u001b[38;5;241m=\u001b[39m \u001b[43mplscv\u001b[49m\u001b[43m(\u001b[49m\u001b[43mXcal\u001b[49m\u001b[43m,\u001b[49m\u001b[43m \u001b[49m\u001b[43mycal\u001b[49m\u001b[43m,\u001b[49m\u001b[43m \u001b[49m\u001b[43mn_comp\u001b[49m\u001b[43m,\u001b[49m\u001b[43m \u001b[49m\u001b[43mcv\u001b[49m\u001b[43m,\u001b[49m\u001b[43m \u001b[49m\u001b[43mmethods\u001b[49m\u001b[43m,\u001b[49m\u001b[43m \u001b[49m\u001b[38;5;241;43m1\u001b[39;49m\u001b[43m,\u001b[49m\u001b[43m \u001b[49m\u001b[38;5;241;43m2\u001b[39;49m\u001b[43m)\u001b[49m\n",
      "Cell \u001b[1;32mIn[92], line 107\u001b[0m, in \u001b[0;36mplscv\u001b[1;34m(X, y, A, K, method, PROCESS, order)\u001b[0m\n\u001b[0;32m    105\u001b[0m C \u001b[38;5;241m=\u001b[39m (ypara2 \u001b[38;5;241m*\u001b[39m B)\u001b[38;5;241m.\u001b[39mT \u001b[38;5;241m/\u001b[39m xpara2\n\u001b[0;32m    106\u001b[0m \u001b[38;5;28mprint\u001b[39m(\u001b[38;5;124m\"\u001b[39m\u001b[38;5;124mC\u001b[39m\u001b[38;5;124m\"\u001b[39m, C\u001b[38;5;241m.\u001b[39mshape)\n\u001b[1;32m--> 107\u001b[0m coef \u001b[38;5;241m=\u001b[39m np\u001b[38;5;241m.\u001b[39mconcatenate((C, ypara1 \u001b[38;5;241m-\u001b[39m (\u001b[43mxpara1\u001b[49m\u001b[43m \u001b[49m\u001b[38;5;241;43m*\u001b[39;49m\u001b[43m \u001b[49m\u001b[43mC\u001b[49m)))\n\u001b[0;32m    109\u001b[0m \u001b[38;5;66;03m# predict\u001b[39;00m\n\u001b[0;32m    110\u001b[0m Xteste \u001b[38;5;241m=\u001b[39m np\u001b[38;5;241m.\u001b[39mhstack((Xtest, np\u001b[38;5;241m.\u001b[39mones((Xtest\u001b[38;5;241m.\u001b[39mshape[\u001b[38;5;241m0\u001b[39m], \u001b[38;5;241m1\u001b[39m))))\n",
      "\u001b[1;31mValueError\u001b[0m: operands could not be broadcast together with shapes (149,2151) (17,2151) "
     ]
    }
   ],
   "source": [
    "print(type(Xcal))\n",
    "print(type(ycal))\n",
    "n_comp = 10\n",
    "cv = 10\n",
    "methods = 'center'\n",
    "df = plscv(Xcal, ycal, n_comp, cv, methods, 1, 2)"
   ]
  },
  {
   "cell_type": "markdown",
   "metadata": {},
   "source": []
  }
 ],
 "metadata": {
  "kernelspec": {
   "display_name": "Python 3",
   "language": "python",
   "name": "python3"
  },
  "language_info": {
   "codemirror_mode": {
    "name": "ipython",
    "version": 3
   },
   "file_extension": ".py",
   "mimetype": "text/x-python",
   "name": "python",
   "nbconvert_exporter": "python",
   "pygments_lexer": "ipython3",
   "version": "3.12.1"
  }
 },
 "nbformat": 4,
 "nbformat_minor": 2
}
